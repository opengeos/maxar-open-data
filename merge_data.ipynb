{
 "cells": [
  {
   "cell_type": "code",
   "execution_count": 5,
   "id": "770d6d42-37b0-4969-ad3b-655f7e93af91",
   "metadata": {},
   "outputs": [],
   "source": [
    "import leafmap\n",
    "\n",
    "files = leafmap.find_files(\"datasets\", recursive=False)"
   ]
  },
  {
   "cell_type": "code",
   "execution_count": 6,
   "id": "6858bfc5-f483-4fd2-8759-48ffe1ecc34e",
   "metadata": {},
   "outputs": [],
   "source": [
    "files = [file for file in files if \"union\" in file]"
   ]
  },
  {
   "cell_type": "code",
   "execution_count": null,
   "id": "c5d130dd-d2fc-4664-8317-3509cd837c21",
   "metadata": {},
   "outputs": [],
   "source": [
    "len(files)"
   ]
  },
  {
   "cell_type": "code",
   "execution_count": null,
   "id": "dbe0f5b0",
   "metadata": {},
   "outputs": [],
   "source": [
    "leafmap.merge_vector(files, \"datasets/maxar_all_events.geojson\")"
   ]
  },
  {
   "cell_type": "code",
   "execution_count": null,
   "id": "625e0cee",
   "metadata": {},
   "outputs": [],
   "source": [
    "leafmap.vector_to_pmtiles(\n",
    "    \"datasets/maxar_all_events.geojson\", \"datasets/maxar_all_events.pmtiles\", max_zoom=9\n",
    ")"
   ]
  }
 ],
 "metadata": {
  "kernelspec": {
   "display_name": "geo",
   "language": "python",
   "name": "python3"
  },
  "language_info": {
   "codemirror_mode": {
    "name": "ipython",
    "version": 3
   },
   "file_extension": ".py",
   "mimetype": "text/x-python",
   "name": "python",
   "nbconvert_exporter": "python",
   "pygments_lexer": "ipython3",
   "version": "3.12.2"
  }
 },
 "nbformat": 4,
 "nbformat_minor": 5
}
